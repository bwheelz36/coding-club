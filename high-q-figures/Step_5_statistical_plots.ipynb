{
 "cells": [
  {
   "cell_type": "markdown",
   "id": "4dad8b37",
   "metadata": {},
   "source": [
    "# Step 5\n",
    "## Statistical Plots\n",
    "\n",
    "You've crunched the numbers and your algorithm is the best ever!\n",
    "\n",
    "Time to generate some nice statistical plots to put in the paper/invited talk/slides to wow your friends."
   ]
  },
  {
   "cell_type": "code",
   "execution_count": null,
   "id": "e5bb4a3a",
   "metadata": {},
   "outputs": [],
   "source": [
    "from pathlib import Path\n",
    "\n",
    "import numpy as np\n",
    "import SimpleITK as sitk\n",
    "\n",
    "import matplotlib.pyplot as plt\n",
    "\n",
    "import matplotlib.patches as mpatches\n",
    "\n",
    "import pandas as pd\n",
    "\n",
    "from scipy import stats\n",
    "\n",
    "import seaborn as sns\n",
    "\n",
    "%matplotlib notebook"
   ]
  },
  {
   "cell_type": "code",
   "execution_count": null,
   "id": "ce5d28b1",
   "metadata": {},
   "outputs": [],
   "source": [
    "\"\"\"\n",
    "We don't have any data\n",
    "So let's just make it up\n",
    "\"\"\"\n",
    "\n",
    "results = pd.DataFrame(columns=[\n",
    "    \"PATIENT_ID\",\n",
    "    \"ALGORITHM\",\n",
    "    \"STRUCTURE\",\n",
    "    \"DSC\",\n",
    "    \"MDA\",\n",
    "    \"HD95\",\n",
    "    \"VOL_DIFF\",\n",
    "    \"VOL_RATIO\",\n",
    "])\n",
    "\n",
    "for patient_id in [\"A\",\"B\",\"C\",\"D\",\"E\",\"F\",\"G\",\"H\",\"I\",\"J\"]:\n",
    "    for enum_s,structure in enumerate([\"BRAIN\",\"LIVER\",\"PANCREAS\",\"STOMACH\",\"HEART\",\"LUNGS\"]):\n",
    "        for enum_a,algorithm in enumerate([\"MAN\",\"AUTO_1\",\"AUTO_2\"]):\n",
    "            \n",
    "            results = results.append({\n",
    "                \"PATIENT_ID\":patient_id,\n",
    "                \"ALGORITHM\":algorithm,\n",
    "                \"STRUCTURE\":structure,\n",
    "                \"DSC\":min([100,stats.norm.rvs(60+enum_s*enum_a,6/(enum_s+1)+3)]),\n",
    "                \"MDA\":max([0,stats.norm.rvs(10-0.1*enum_s*enum_a,3)]),\n",
    "                \"HD95\":max([0,stats.norm.rvs(25-0.3*enum_s*enum_a,5)]),\n",
    "                \"VOL_DIFF\":stats.norm.rvs(0,10*enum_s*enum_a+2),\n",
    "                \"VOL_RATIO\":stats.norm.rvs(1, 5*enum_s*enum_a+1),\n",
    "            }, ignore_index=True)"
   ]
  },
  {
   "cell_type": "code",
   "execution_count": null,
   "id": "2d8aa08e",
   "metadata": {},
   "outputs": [],
   "source": [
    "results"
   ]
  },
  {
   "cell_type": "code",
   "execution_count": null,
   "id": "7bbc9698",
   "metadata": {},
   "outputs": [],
   "source": [
    "fig, ax = plt.subplots(1,1,figsize=(8,4))\n",
    "\n",
    "_ = sns.boxplot(\n",
    "    x=\"STRUCTURE\",\n",
    "    y=\"HD95\",\n",
    "    hue=\"ALGORITHM\",\n",
    "    data=results,\n",
    "    order=None,\n",
    "    hue_order=None,\n",
    "    orient=None,\n",
    "    palette=sns.color_palette(\"mako\", n_colors=3),\n",
    "    saturation=0.75,\n",
    "    width=0.8,\n",
    "    dodge=True,\n",
    "    fliersize=5,\n",
    "    linewidth=None, \n",
    "    whis=20,\n",
    "    ax=ax,\n",
    ")"
   ]
  },
  {
   "cell_type": "code",
   "execution_count": null,
   "id": "0b3b244c",
   "metadata": {},
   "outputs": [],
   "source": []
  }
 ],
 "metadata": {
  "kernelspec": {
   "display_name": "Python 3",
   "language": "python",
   "name": "python3"
  },
  "language_info": {
   "codemirror_mode": {
    "name": "ipython",
    "version": 3
   },
   "file_extension": ".py",
   "mimetype": "text/x-python",
   "name": "python",
   "nbconvert_exporter": "python",
   "pygments_lexer": "ipython3",
   "version": "3.8.5"
  }
 },
 "nbformat": 4,
 "nbformat_minor": 5
}
