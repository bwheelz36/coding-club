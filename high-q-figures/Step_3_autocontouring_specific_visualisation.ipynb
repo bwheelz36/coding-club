{
 "cells": [
  {
   "cell_type": "markdown",
   "source": [
    "# Step 3\n",
    "## Autocontouring-specific visualisation\n",
    "\n",
    "Autocontouring is a pretty big deal in any field that uses medical imaging.\n",
    "\n",
    "This notebook demonstrates:\n",
    "- a basic autocontouring algorithm\n",
    "- to visually the performance of the algorithm\n",
    "- some other cool stuff!"
   ],
   "metadata": {}
  },
  {
   "cell_type": "code",
   "execution_count": null,
   "source": [
    "\"\"\"\n",
    "Import some useful modules\n",
    "\"\"\"\n",
    "\n",
    "from pathlib import Path\n",
    "\n",
    "import numpy as np\n",
    "import SimpleITK as sitk\n",
    "\n",
    "import matplotlib.pyplot as plt\n",
    "\n",
    "from platipy.imaging import ImageVisualiser\n",
    "from platipy.dicom.io.crawl import process_dicom_directory\n",
    "from platipy.imaging.label.utils import get_com\n",
    "from platipy.imaging.utils.crop import crop_to_label_extent\n",
    "\n",
    "from platipy.imaging.registration.linear import linear_registration\n",
    "from platipy.imaging.registration.deformable import fast_symmetric_forces_demons_registration\n",
    "from platipy.imaging.registration.utils import apply_transform\n",
    "\n",
    "from platipy.imaging.visualisation.comparison import contour_comparison\n",
    "\n",
    "from platipy.imaging.generation.dvf import generate_field_asymmetric_extend\n",
    "\n",
    "import matplotlib.colors as mcolors\n",
    "import matplotlib.patches as mpatches\n",
    "\n",
    "import seaborn as sns\n",
    "\n",
    "%matplotlib inline"
   ],
   "outputs": [],
   "metadata": {}
  },
  {
   "cell_type": "code",
   "execution_count": null,
   "source": [
    "\"\"\"\n",
    "We are going to do very simple atlas-based segmentation\n",
    "Let's start by loading in some data\n",
    "\"\"\"\n",
    "\n",
    "target_dir = Path(\"./input/NIfTI/RTMAC_LIVE_003/\")\n",
    "target = {}\n",
    "target[\"MRI\"] = sitk.ReadImage( str(list(target_dir.glob(\"IMAGES/*.nii.gz\"))[0]) , sitk.sitkUInt32)\n",
    "target[\"LABELS\"] = {}\n",
    "for s_file in target_dir.glob(\"STRUCTURES/*.nii.gz\"):\n",
    "    target[\"LABELS\"][s_file.name[26:-7]] = sitk.ReadImage( str(s_file) )\n",
    "    \n",
    "\n",
    "atlas_dir = Path(\"./input/NIfTI/RTMAC_LIVE_002/\")\n",
    "atlas = {}\n",
    "atlas[\"MRI\"] = sitk.ReadImage( str(list(atlas_dir.glob(\"IMAGES/*.nii.gz\"))[0]) , sitk.sitkUInt32)\n",
    "atlas[\"LABELS\"] = {}\n",
    "for s_file in atlas_dir.glob(\"STRUCTURES/*.nii.gz\"):\n",
    "    atlas[\"LABELS\"][s_file.name[26:-7]] = sitk.ReadImage( str(s_file) )"
   ],
   "outputs": [],
   "metadata": {}
  },
  {
   "cell_type": "code",
   "execution_count": null,
   "source": [
    "\"\"\"\n",
    "Now let's quickly check what out data look like\n",
    "\"\"\"\n",
    "\n",
    "vis = ImageVisualiser(target[\"MRI\"], window=(0,400), figure_size_in=6)\n",
    "vis.add_contour(target[\"LABELS\"], linestyle='solid')\n",
    "fig=vis.show()"
   ],
   "outputs": [],
   "metadata": {}
  },
  {
   "cell_type": "code",
   "execution_count": null,
   "source": [
    "vis = ImageVisualiser(atlas[\"MRI\"], window=(0,400), figure_size_in=6)\n",
    "vis.add_contour(atlas[\"LABELS\"], linestyle='dashed')\n",
    "fig=vis.show()"
   ],
   "outputs": [],
   "metadata": {}
  },
  {
   "cell_type": "code",
   "execution_count": null,
   "source": [
    "\"\"\"\n",
    "Register the images\n",
    "\n",
    "Step 1 is a linear transformation\n",
    "\n",
    "For inter-patient registration, an affine transform is a good option\n",
    "\"\"\"\n",
    "\n",
    "atlas_mri_affine, tfm_affine = linear_registration(\n",
    "    fixed_image = target[\"MRI\"],\n",
    "    moving_image = atlas[\"MRI\"],\n",
    "    reg_method='affine',\n",
    "    metric='mean_squares',\n",
    "    optimiser='gradient_descent',\n",
    "    shrink_factors=[8, 4, 2],\n",
    "    smooth_sigmas=[4, 2, 0],\n",
    "    sampling_rate=0.5,\n",
    "    final_interp=2,\n",
    "    number_of_iterations=50,\n",
    "    default_value=0,\n",
    "    verbose=False,\n",
    ")"
   ],
   "outputs": [],
   "metadata": {}
  },
  {
   "cell_type": "markdown",
   "source": [
    "### Comparing two images\n",
    "\n",
    "A very common challenge!\n",
    "\n",
    "Here used to check on a registration process.\n",
    "\n",
    "This **is not** just displaying a pink image and a green image!"
   ],
   "metadata": {}
  },
  {
   "cell_type": "code",
   "execution_count": null,
   "source": [
    "vis = ImageVisualiser(target[\"MRI\"], window=(0,400), figure_size_in=6)\n",
    "vis.add_comparison_overlay(atlas_mri_affine)\n",
    "fig=vis.show()"
   ],
   "outputs": [],
   "metadata": {}
  },
  {
   "cell_type": "code",
   "execution_count": null,
   "source": [
    "fig.savefig(\"./figures/mri_coreg_affine.jpeg\", dpi=300)"
   ],
   "outputs": [],
   "metadata": {}
  },
  {
   "cell_type": "code",
   "execution_count": null,
   "source": [
    "\"\"\"\n",
    "For the next step we are going to use DIR\n",
    "\"\"\"\n",
    "\n",
    "atlas_mri_dir, tfm_dir, dvf = fast_symmetric_forces_demons_registration(\n",
    "    fixed_image = target[\"MRI\"],\n",
    "    moving_image = atlas_mri_affine,\n",
    "    resolution_staging=[8, 4, 1],\n",
    "    iteration_staging=[70,50,30],\n",
    "    isotropic_resample=True,\n",
    "    smoothing_sigma_factor=1,\n",
    "    default_value=0,\n",
    "    ncores=8,\n",
    "    interp_order=2,\n",
    "    verbose=False,\n",
    ")"
   ],
   "outputs": [],
   "metadata": {}
  },
  {
   "cell_type": "code",
   "execution_count": null,
   "source": [
    "vis = ImageVisualiser(target[\"MRI\"], window=(0,400), figure_size_in=6)\n",
    "vis.add_comparison_overlay(atlas_mri_dir)\n",
    "fig=vis.show()"
   ],
   "outputs": [],
   "metadata": {}
  },
  {
   "cell_type": "code",
   "execution_count": null,
   "source": [
    "fig.savefig(\"./figures/mri_coreg_dir.jpeg\", dpi=300)"
   ],
   "outputs": [],
   "metadata": {}
  },
  {
   "cell_type": "code",
   "execution_count": null,
   "source": [
    "\"\"\"\n",
    "We are often interested in the deformation vector field (DVF)\n",
    "\"\"\"\n",
    "\n",
    "vis = ImageVisualiser(target[\"MRI\"], window=(0,400), figure_size_in=6)\n",
    "vis.add_vector_overlay(\n",
    "    dvf,\n",
    "    name=\"DVF magnitude [mm]\",\n",
    "    colormap=plt.cm.viridis,\n",
    "    alpha=0.75,\n",
    "    arrow_scale=1,\n",
    "    arrow_width=1,\n",
    "    subsample=(4,16,16),\n",
    "    color_function='magnitude',\n",
    "    show_colorbar=True,\n",
    ")\n",
    "fig=vis.show()"
   ],
   "outputs": [],
   "metadata": {}
  },
  {
   "cell_type": "markdown",
   "source": [
    "#### This doesn't seem very informative!\n",
    "\n",
    "I agree! The deformation outside the patient dominates.\n",
    "\n",
    "We don't really care about this.\n",
    "\n",
    "So let's mask it out."
   ],
   "metadata": {}
  },
  {
   "cell_type": "code",
   "execution_count": null,
   "source": [
    "\"\"\"\n",
    "A super simple algorithm to generate an external contour\n",
    "\"\"\"\n",
    "\n",
    "external_contour = target[\"MRI\"]>50\n",
    "external_contour = sitk.RelabelComponent(sitk.ConnectedComponent(external_contour))==1\n",
    "external_contour = sitk.BinaryMorphologicalClosing(external_contour, (10,10,10))"
   ],
   "outputs": [],
   "metadata": {}
  },
  {
   "cell_type": "code",
   "execution_count": null,
   "source": [
    "\"\"\"\n",
    "Quick visualisation to make sure our mask looks okay\n",
    "\"\"\"\n",
    "\n",
    "vis = ImageVisualiser(target[\"MRI\"], window=(0,400), figure_size_in=6)\n",
    "vis.add_scalar_overlay(external_contour, show_colorbar=False)\n",
    "fig=vis.show()"
   ],
   "outputs": [],
   "metadata": {}
  },
  {
   "cell_type": "code",
   "execution_count": null,
   "source": [
    "\"\"\"\n",
    "Visualise the deformation again, now only inside the patient!\n",
    "\"\"\"\n",
    "\n",
    "vis = ImageVisualiser(target[\"MRI\"], window=(0,400), figure_size_in=6)\n",
    "vis.add_vector_overlay(\n",
    "    sitk.Mask(dvf, external_contour),\n",
    "    name=\"DVF perpendicular component [mm]\",\n",
    "    colormap=plt.cm.bwr,\n",
    "    alpha=0.75,\n",
    "    arrow_scale=2,\n",
    "    arrow_width=1,\n",
    "    subsample=(2,8,8),\n",
    "    color_function='perpendicular',\n",
    "    show_colorbar=True,\n",
    ")\n",
    "fig=vis.show()"
   ],
   "outputs": [],
   "metadata": {}
  },
  {
   "cell_type": "code",
   "execution_count": null,
   "source": [
    "fig.savefig(\"./figures/mri_coreg_dvf_vector_perpendicular.jpeg\", dpi=300)"
   ],
   "outputs": [],
   "metadata": {}
  },
  {
   "cell_type": "markdown",
   "source": [
    "### Alternative representation\n",
    "\n",
    "We might just want to look at locations where there is a lot of deformation.\n",
    "\n",
    "These correspond to locations of large differences between the target/atlas."
   ],
   "metadata": {}
  },
  {
   "cell_type": "code",
   "execution_count": null,
   "source": [
    "\"\"\"\n",
    "Calculate the magnitude of the DVF\n",
    "\"\"\"\n",
    "\n",
    "internal_dvf = sitk.Mask(dvf, external_contour)\n",
    "internal_dvf_magnitude = sitk.VectorMagnitude(internal_dvf)"
   ],
   "outputs": [],
   "metadata": {}
  },
  {
   "cell_type": "code",
   "execution_count": null,
   "source": [
    "\"\"\"\n",
    "We should use a sequential colormap!\n",
    "\"\"\"\n",
    "\n",
    "vis = ImageVisualiser(target[\"MRI\"], window=(0,400), figure_size_in=6)\n",
    "vis.add_scalar_overlay(\n",
    "    internal_dvf_magnitude,\n",
    "    name=\"DVF magnitude [mm]\",\n",
    "    colormap=plt.cm.magma,\n",
    "    show_colorbar=True,\n",
    "    max_value=20,\n",
    "    discrete_levels=10\n",
    ")\n",
    "fig=vis.show()"
   ],
   "outputs": [],
   "metadata": {}
  },
  {
   "cell_type": "code",
   "execution_count": null,
   "source": [
    "fig.savefig(\"./figures/mri_coreg_dvf_scalar_magnitude.jpeg\", dpi=300)"
   ],
   "outputs": [],
   "metadata": {}
  },
  {
   "cell_type": "code",
   "execution_count": null,
   "source": [
    "\"\"\"\n",
    "The Jacobian determinant measures the local relative volume change\n",
    "\"\"\"\n",
    "\n",
    "internal_jac_det = sitk.DisplacementFieldJacobianDeterminant(internal_dvf)"
   ],
   "outputs": [],
   "metadata": {}
  },
  {
   "cell_type": "code",
   "execution_count": null,
   "source": [
    "\"\"\"\n",
    "We would like a colormap that reflects the physical interpretation of the Jac Det\n",
    "\"\"\"\n",
    "\n",
    "zero_centered_norm = mcolors.TwoSlopeNorm(vmin=0, vcenter=1, vmax=2)"
   ],
   "outputs": [],
   "metadata": {}
  },
  {
   "cell_type": "code",
   "execution_count": null,
   "source": [
    "sns.color_palette(\"icefire\", n_colors=12)"
   ],
   "outputs": [],
   "metadata": {}
  },
  {
   "cell_type": "code",
   "execution_count": null,
   "source": [
    "\"\"\"\n",
    "Visualise!\n",
    "\"\"\"\n",
    "\n",
    "vis = ImageVisualiser(target[\"MRI\"], window=(0,400), figure_size_in=6)\n",
    "vis.add_scalar_overlay(\n",
    "    internal_jac_det,\n",
    "    name=\"Jacobian Determinant\",\n",
    "    colormap=sns.color_palette(\"icefire\", as_cmap=True),\n",
    "    show_colorbar=True,\n",
    "    max_value=2.2,\n",
    "    min_value=0.0,\n",
    "    discrete_levels=11,\n",
    "    alpha=0.75,\n",
    "    norm=zero_centered_norm\n",
    ")\n",
    "fig=vis.show()"
   ],
   "outputs": [],
   "metadata": {}
  },
  {
   "cell_type": "code",
   "execution_count": null,
   "source": [
    "fig.savefig(\"./figures/mri_coreg_dvf_scalar_jab_det_1.jpeg\", dpi=300)"
   ],
   "outputs": [],
   "metadata": {}
  },
  {
   "cell_type": "code",
   "execution_count": null,
   "source": [
    "\"\"\"\n",
    "The Jac Det should also not be negative\n",
    "(why is this?)\n",
    "\"\"\"\n",
    "\n",
    "internal_jac_det_values = sitk.GetArrayFromImage(sitk.DisplacementFieldJacobianDeterminant(internal_dvf))[np.where(sitk.GetArrayFromImage(external_contour))]"
   ],
   "outputs": [],
   "metadata": {}
  },
  {
   "cell_type": "code",
   "execution_count": null,
   "source": [
    "\"\"\"\n",
    "Create a nice histogram\n",
    "\"\"\"\n",
    "\n",
    "histbins = np.linspace(-1,5,600)\n",
    "\n",
    "fig, ax = plt.subplots(1,1,figsize=(5,4))\n",
    "\n",
    "counts, bins, bars = ax.hist(internal_jac_det_values, bins=histbins, lw=0, ec=\"k\")\n",
    "\n",
    "bin_centers = (bins[1:]+bins[:-1])/2\n",
    "\n",
    "for b,bc in zip(bars.patches, bin_centers):\n",
    "    \n",
    "    if bc<=0:\n",
    "        c=\"#922b21\"\n",
    "    else:\n",
    "        c=\"#212f3d\"\n",
    "\n",
    "    b.set_facecolor(c)\n",
    "    \n",
    "ax.set_xlabel(\"Jacobian Determinant\")\n",
    "ax.set_ylabel(\"Number of Voxels\")\n",
    "\n",
    "ax.grid()\n",
    "ax.set_axisbelow(True)\n",
    "\n",
    "ax.set_yscale(\"log\")\n",
    "\n",
    "ax.set_xlim(-1,5)\n",
    "\n",
    "frac_below_zero = (internal_jac_det_values<0).sum()/np.alen(internal_jac_det_values)\n",
    "handles = [mpatches.Patch(color=\"#922b21\", label=f\"Jac. Det. below zero: {100*frac_below_zero:.2f}%\")]\n",
    "ax.legend(handles=handles)\n",
    "\n",
    "fig.tight_layout()\n",
    "\n",
    "fig.show()"
   ],
   "outputs": [],
   "metadata": {}
  },
  {
   "cell_type": "code",
   "execution_count": null,
   "source": [
    "\"\"\"\n",
    "We could also colour the histogram bins to match up with the displayed image\n",
    "\"\"\"\n",
    "\n",
    "histbins = np.linspace(-1,5,600)\n",
    "\n",
    "fig, ax = plt.subplots(1,1,figsize=(6,4))\n",
    "\n",
    "counts, bins, bars = ax.hist(internal_jac_det_values, bins=histbins, lw=0, ec=\"k\")\n",
    "\n",
    "bin_centers = (bins[1:]+bins[:-1])/2\n",
    "\n",
    "cmap = sns.color_palette(\"icefire\", as_cmap=True)\n",
    "bin_colors = cmap(zero_centered_norm(bin_centers))\n",
    "\n",
    "for b,c in zip(bars.patches, bin_colors):\n",
    "\n",
    "    b.set_facecolor(c)\n",
    "    \n",
    "ax.set_xlabel(\"Jacobian Determinant\")\n",
    "ax.set_ylabel(\"Number of Voxels\")\n",
    "\n",
    "ax.grid()\n",
    "ax.set_axisbelow(True)\n",
    "\n",
    "fig.tight_layout()\n",
    "\n",
    "fig.show()"
   ],
   "outputs": [],
   "metadata": {}
  },
  {
   "cell_type": "code",
   "execution_count": null,
   "source": [
    "\"\"\"\n",
    "Since platipy just uses matplotlib we can easily add an axis\n",
    "Then we can plot anything!\n",
    "\"\"\"\n",
    "\n",
    "vis = ImageVisualiser(target[\"MRI\"], window=(0,400), figure_size_in=6)\n",
    "vis.add_scalar_overlay(\n",
    "    internal_jac_det,\n",
    "    name=\"Jacobian Determinant\",\n",
    "    colormap=sns.color_palette(\"icefire\", as_cmap=True),\n",
    "    show_colorbar=True,\n",
    "    max_value=2.2,\n",
    "    min_value=0.0,\n",
    "    discrete_levels=11,\n",
    "    alpha=0.75,\n",
    "    norm=zero_centered_norm\n",
    ")\n",
    "fig=vis.show()\n",
    "\n",
    "ax = fig.add_axes((0.7, 0.6, 0.25, 0.25))\n",
    "counts, bins, bars = ax.hist(internal_jac_det_values, bins=histbins, lw=0, ec=\"k\")\n",
    "\n",
    "bin_centers = (bins[1:]+bins[:-1])/2\n",
    "\n",
    "for b,bc in zip(bars.patches, bin_centers):\n",
    "    \n",
    "    if bc<=0:\n",
    "        c=\"#922b21\"\n",
    "    else:\n",
    "        c=\"#212f3d\"\n",
    "\n",
    "    b.set_facecolor(c)\n",
    "\n",
    "\n",
    "ax.grid()\n",
    "ax.set_axisbelow(True)\n",
    "ax.set_yscale(\"log\")\n",
    "ax.set_xlim(-1,5)\n",
    "frac_below_zero = (internal_jac_det_values<0).sum()/np.alen(internal_jac_det_values)\n",
    "ax.set_title(f\"J<0: {100*frac_below_zero:.2f}%\");"
   ],
   "outputs": [],
   "metadata": {}
  },
  {
   "cell_type": "code",
   "execution_count": null,
   "source": [
    "fig.savefig(\"./figures/mri_coreg_dvf_scalar_jab_det_2.jpeg\", dpi=300)"
   ],
   "outputs": [],
   "metadata": {}
  },
  {
   "cell_type": "code",
   "execution_count": null,
   "source": [
    "\"\"\"\n",
    "This histogram could double as a colorbar!\n",
    "\"\"\"\n",
    "\n",
    "vis = ImageVisualiser(target[\"MRI\"], window=(0,400), figure_size_in=6)\n",
    "vis.add_scalar_overlay(\n",
    "    internal_jac_det,\n",
    "    name=\"Jacobian Determinant\",\n",
    "    colormap=sns.color_palette(\"icefire\", as_cmap=True),\n",
    "    show_colorbar=False,\n",
    "    max_value=2.2,\n",
    "    min_value=0.0,\n",
    "    discrete_levels=11,\n",
    "    alpha=0.75,\n",
    "    norm=zero_centered_norm,\n",
    ")\n",
    "fig=vis.show()\n",
    "\n",
    "ax = fig.add_axes((0.6, 0.55, 0.375, 0.425))\n",
    "\n",
    "counts, bins, bars = ax.hist(internal_jac_det_values, bins=histbins, lw=0, ec=\"k\", orientation=\"horizontal\")\n",
    "\n",
    "bin_centers = (bins[1:]+bins[:-1])/2\n",
    "\n",
    "cmap = sns.color_palette(\"icefire\", as_cmap=True)\n",
    "bin_colors = cmap(zero_centered_norm(bin_centers))\n",
    "\n",
    "for b,c in zip(bars.patches, bin_colors):\n",
    "\n",
    "    b.set_facecolor(c)\n",
    "    \n",
    "ax.set_ylabel(\"Jacobian Determinant\")\n",
    "\n",
    "ax.set_xscale(\"symlog\", linthresh=500)\n",
    "ax.set_xlim(500,2e5)\n",
    "\n",
    "ax.grid()\n",
    "ax.set_axisbelow(True)"
   ],
   "outputs": [],
   "metadata": {}
  },
  {
   "cell_type": "code",
   "execution_count": null,
   "source": [
    "fig.savefig(\"./figures/mri_coreg_dvf_scalar_jab_det_3.jpeg\", dpi=300)"
   ],
   "outputs": [],
   "metadata": {}
  },
  {
   "cell_type": "code",
   "execution_count": null,
   "source": [
    "\"\"\"\n",
    "A bit of a detour, but let's get back to the segmentation problem!\n",
    "We now need to map across the contours from the atlas\n",
    "Thankfully SimpleITK makes this really easy\n",
    "\"\"\"\n",
    "\n",
    "tfm_combined = sitk.CompositeTransform((tfm_affine, tfm_dir))\n",
    "\n",
    "auto_contours = {}\n",
    "for s in atlas[\"LABELS\"]:\n",
    "    auto_contours[s] = apply_transform(\n",
    "    input_image = atlas[\"LABELS\"][s],\n",
    "    reference_image=target[\"MRI\"],\n",
    "    transform=tfm_combined,\n",
    "    default_value=0,\n",
    "    interpolator=1,\n",
    ")"
   ],
   "outputs": [],
   "metadata": {}
  },
  {
   "cell_type": "code",
   "execution_count": null,
   "source": [
    "\"\"\"\n",
    "Platipy to the rescue!\n",
    "\"\"\"\n",
    "\n",
    "fig = contour_comparison(\n",
    "    img = target[\"MRI\"],\n",
    "    contour_dict_a = target[\"LABELS\"],\n",
    "    contour_dict_b = auto_contours,\n",
    "    contour_label_a='Manual',\n",
    "    contour_label_b='Auto',\n",
    "    s_select=sorted(auto_contours.keys()),\n",
    "    structure_for_com=None,\n",
    "    structure_for_limits=None,\n",
    "    title='Atlas-based Segmentation',\n",
    "    subtitle='H&N Glands',\n",
    "    subsubtitle='Single atlas\\nLog-domain symmetric diffeomorphic DIR algorithm',\n",
    "    contour_cmap=plt.cm.rainbow,\n",
    "    structure_name_dict=None,\n",
    "    img_vis_kw=dict(window=(0,0.9), figure_size_in=8, projection=\"mean\"),\n",
    ")"
   ],
   "outputs": [],
   "metadata": {
    "scrolled": false
   }
  },
  {
   "cell_type": "code",
   "execution_count": null,
   "source": [
    "fig.savefig(\"./figures/mri_atlas_results_drr.jpeg\", dpi=300)"
   ],
   "outputs": [],
   "metadata": {}
  },
  {
   "cell_type": "markdown",
   "source": [
    "### Extending visualisation tools\n",
    "\n",
    "Once great thing about approaching visualisation using code is extensibility.\n",
    "\n",
    "We can create informative and visually appealing figures."
   ],
   "metadata": {}
  },
  {
   "cell_type": "code",
   "execution_count": null,
   "source": [
    "fig.savefig(\"./figures/mri_atlas_results.jpeg\", dpi=300)"
   ],
   "outputs": [],
   "metadata": {}
  },
  {
   "cell_type": "code",
   "execution_count": null,
   "source": [
    "\"\"\"\n",
    "Maybe we are interested in places where our algorithms makes correct/incorrect predictions\n",
    "So let's visualise those\n",
    "\"\"\"\n",
    "\n",
    "predictions = {}\n",
    "\n",
    "for s in target[\"LABELS\"]:\n",
    "    true_label = target[\"LABELS\"][s]\n",
    "    pred_label = auto_contours[s]\n",
    "    \n",
    "    predictions[s] = {}\n",
    "    \n",
    "    predictions[s][\"TP\"] = (pred_label & true_label)\n",
    "    predictions[s][\"FP\"] = (pred_label & sitk.Not(true_label))\n",
    "    predictions[s][\"TN\"] = (sitk.Not(pred_label) & sitk.Not(true_label))\n",
    "    predictions[s][\"FN\"] = (sitk.Not(pred_label) & true_label)"
   ],
   "outputs": [],
   "metadata": {}
  },
  {
   "cell_type": "code",
   "execution_count": null,
   "source": [
    "\"\"\"\n",
    "Visualise!\n",
    "\"\"\"\n",
    "\n",
    "vis = ImageVisualiser(target[\"MRI\"], cut=get_com(target[\"LABELS\"][\"PAROTID_L\"]), window=(0,400), figure_size_in=6)\n",
    "\n",
    "# We are using scalar overlays, but we could try contours instead!\n",
    "vis.add_scalar_overlay(\n",
    "    predictions[\"PAROTID_L\"][\"TP\"], colormap=plt.cm.Greens, show_colorbar=False, alpha=0.75\n",
    ")\n",
    "vis.add_scalar_overlay(\n",
    "    predictions[\"PAROTID_L\"][\"FP\"], colormap=plt.cm.Reds, show_colorbar=False, alpha=0.75\n",
    ")\n",
    "vis.add_scalar_overlay(\n",
    "    predictions[\"PAROTID_L\"][\"FN\"], colormap=plt.cm.Blues, show_colorbar=False, alpha=0.75\n",
    ")\n",
    "\n",
    "vis.set_limits_from_label(target[\"LABELS\"][\"PAROTID_L\"], expansion=30)\n",
    "\n",
    "handles = [\n",
    "    mpatches.Patch(color=plt.cm.Greens(240), label=f\"True Positive\"),\n",
    "    mpatches.Patch(color=plt.cm.Reds(240), label=f\"False Positive\"),\n",
    "    mpatches.Patch(color=plt.cm.Blues(240), label=f\"False Negative\"),\n",
    "]\n",
    "\n",
    "fig=vis.show()\n",
    "\n",
    "# Remember to add the legend after! Before this, 'fig' isn't defined!\n",
    "fig.legend(handles=handles, loc=2, borderaxespad=0, bbox_to_anchor=(0.6, 0.8), bbox_transform=fig.transFigure);"
   ],
   "outputs": [],
   "metadata": {}
  },
  {
   "cell_type": "code",
   "execution_count": null,
   "source": [
    "fig.savefig(\"./figures/mri_atlas_results_analysis.jpeg\", dpi=300)"
   ],
   "outputs": [],
   "metadata": {}
  },
  {
   "cell_type": "code",
   "execution_count": null,
   "source": [
    "\"\"\"\n",
    "Another fairly common visualisation task:\n",
    "Displaying sequential segmentations\n",
    "Some examples:\n",
    "- auto contours derived by increasing a parameter\n",
    "- auto contours from using more training epochs\n",
    "- auto contours from expanding/contracting a volume\n",
    "\"\"\"\n",
    "\n",
    "# Generate some additional contours by expanding our auto-contour\n",
    "\n",
    "auto_contour_ext, tfm_ext, dvf_ext = generate_field_asymmetric_extend(\n",
    "    auto_contours[\"PAROTID_L\"],\n",
    "    vector_asymmetric_extend=(-2, 1, -4),\n",
    "    gaussian_smooth=2,\n",
    ")"
   ],
   "outputs": [],
   "metadata": {}
  },
  {
   "cell_type": "code",
   "execution_count": null,
   "source": [
    "vis = ImageVisualiser(target[\"MRI\"], cut=get_com(target[\"LABELS\"][\"PAROTID_L\"]), window=(0,400), figure_size_in=6)\n",
    "vis.add_vector_overlay(\n",
    "    dvf_ext,\n",
    "    name=\"DVF magnitude [mm]\",\n",
    "    colormap=plt.cm.viridis,\n",
    "    alpha=0.75,\n",
    "    arrow_scale=2,\n",
    "    arrow_width=0.25,\n",
    "    subsample=(1,4,4),\n",
    "    color_function='magnitude',\n",
    "    show_colorbar=True,\n",
    ")\n",
    "\n",
    "vis.add_contour(auto_contours[\"PAROTID_L\"], name=\"Original Auto-Contour\", color=\"red\")\n",
    "vis.add_contour(auto_contour_ext, name=\"Extended Auto-Contour\", color=\"purple\", show_legend=True)\n",
    "\n",
    "vis.set_limits_from_label(target[\"LABELS\"][\"PAROTID_L\"], expansion=30)\n",
    "\n",
    "fig=vis.show()"
   ],
   "outputs": [],
   "metadata": {}
  },
  {
   "cell_type": "code",
   "execution_count": null,
   "source": [
    "\"\"\"\n",
    "Generate a sequence of extended contours\n",
    "\"\"\"\n",
    "\n",
    "extended_contours = {}\n",
    "\n",
    "for ext in [1,2,3,4,5]:\n",
    "    auto_contour_ext, _, _ = generate_field_asymmetric_extend(\n",
    "        auto_contours[\"PAROTID_L\"],\n",
    "        vector_asymmetric_extend=(-1*ext, 0.5*ext, -2*ext),\n",
    "        gaussian_smooth=2,\n",
    "    )\n",
    "    \n",
    "    extended_contours[ext] = auto_contour_ext"
   ],
   "outputs": [],
   "metadata": {}
  },
  {
   "cell_type": "code",
   "execution_count": null,
   "source": [
    "\"\"\"\n",
    "Visualise\n",
    "\"\"\"\n",
    "\n",
    "vis = ImageVisualiser(target[\"MRI\"], cut=get_com(target[\"LABELS\"][\"PAROTID_L\"]), window=(0,400), figure_size_in=6)\n",
    "\n",
    "vis.add_contour(extended_contours, colormap=plt.cm.plasma_r)\n",
    "\n",
    "vis.set_limits_from_label(target[\"LABELS\"][\"PAROTID_L\"], expansion=30)\n",
    "\n",
    "fig=vis.show()"
   ],
   "outputs": [],
   "metadata": {}
  },
  {
   "cell_type": "code",
   "execution_count": null,
   "source": [],
   "outputs": [],
   "metadata": {}
  }
 ],
 "metadata": {
  "kernelspec": {
   "name": "python3",
   "display_name": "Python 3.8.10 64-bit"
  },
  "language_info": {
   "codemirror_mode": {
    "name": "ipython",
    "version": 3
   },
   "file_extension": ".py",
   "mimetype": "text/x-python",
   "name": "python",
   "nbconvert_exporter": "python",
   "pygments_lexer": "ipython3",
   "version": "3.8.10"
  },
  "interpreter": {
   "hash": "e7370f93d1d0cde622a1f8e1c04877d8463912d04d973331ad4851f04de6915a"
  }
 },
 "nbformat": 4,
 "nbformat_minor": 5
}