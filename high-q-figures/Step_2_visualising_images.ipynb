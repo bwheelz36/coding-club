{
 "cells": [
  {
   "cell_type": "markdown",
   "source": [
    "# Step 2\n",
    "## Visualising the data\n",
    "\n",
    "This notebook shows how I would start to visualise the data.\n",
    "\n",
    "There are some thoughts about visualisation techniques along the way."
   ],
   "metadata": {}
  },
  {
   "cell_type": "code",
   "execution_count": null,
   "source": [
    "\"\"\"\n",
    "Import some useful modules\n",
    "\"\"\"\n",
    "\n",
    "from pathlib import Path\n",
    "\n",
    "import numpy as np\n",
    "import SimpleITK as sitk\n",
    "\n",
    "import matplotlib.pyplot as plt\n",
    "\n",
    "from platipy.imaging import ImageVisualiser\n",
    "from platipy.dicom.io.crawl import process_dicom_directory\n",
    "from platipy.imaging.label.utils import get_com\n",
    "from platipy.imaging.utils.crop import crop_to_label_extent\n",
    "\n",
    "import seaborn as sns\n",
    "\n",
    "from scipy.stats import gaussian_kde\n",
    "%matplotlib notebook"
   ],
   "outputs": [],
   "metadata": {}
  },
  {
   "cell_type": "code",
   "execution_count": null,
   "source": [
    "\"\"\"\n",
    "Let's load a single image with the segmentations \n",
    "\"\"\"\n",
    "\n",
    "input_dir = Path(\"./input/NIfTI/RTMAC_LIVE_001/\")\n",
    "\n",
    "img = sitk.ReadImage( str(list(input_dir.glob(\"IMAGES/*.nii.gz\"))[0]) , sitk.sitkUInt32)\n",
    "contours = {\n",
    "    s_file.name[26:-7]:sitk.ReadImage( str(s_file) )\n",
    "    for s_file in input_dir.glob(\"STRUCTURES/*.nii.gz\")\n",
    "}"
   ],
   "outputs": [],
   "metadata": {}
  },
  {
   "cell_type": "code",
   "execution_count": null,
   "source": [
    "\"\"\"\n",
    "Before we start to visualise, let's look at the imaging data\n",
    "Here we convert the image to a 1D array (list) of values\n",
    "This makes it pretty efficient to pass to other functions\n",
    "\"\"\"\n",
    "\n",
    "img_values = sitk.GetArrayFromImage(img).flatten()"
   ],
   "outputs": [],
   "metadata": {}
  },
  {
   "cell_type": "code",
   "execution_count": null,
   "source": [
    "\"\"\"\n",
    "We can plot a histogram of intensity\n",
    "This gives us some useful information we will use shortly\n",
    "\"\"\"\n",
    "\n",
    "fig, ax = plt.subplots(1,1)\n",
    "ax.hist(img_values)\n",
    "fig.show()"
   ],
   "outputs": [],
   "metadata": {}
  },
  {
   "cell_type": "markdown",
   "source": [
    "### Can we make this plot a bit nicer?\n",
    "\n",
    "Some thoughts:\n",
    " - not enough information to show this to another person (i.e. myself in the future)\n",
    " - the plot isn't particularly informative\n",
    " - the default colour is a bit plain"
   ],
   "metadata": {}
  },
  {
   "cell_type": "code",
   "execution_count": null,
   "source": [
    "\"\"\"\n",
    "Maybe a bit nicer\n",
    "\"\"\"\n",
    "\n",
    "# By creating a matplotlib axis we have a lot more control over the plot\n",
    "# There are lot's of ways to do this:\n",
    "# fig = plt.figure(); ax = fig.add_subplots(1,1)\n",
    "fig, ax = plt.subplots(1,1,figsize=(6,5))\n",
    "\n",
    "# We are going to use the same function as before\n",
    "# This time we will select the bins \n",
    "# And use a \"step\" histogram to avoid filling in too much space\n",
    "ax.hist(\n",
    "    img_values,\n",
    "    bins=np.linspace(0,450,50),\n",
    "    histtype=\"step\",\n",
    "    ec=\"#34495E\",\n",
    "    lw=1.5,\n",
    "    label=\"Entire Image\",\n",
    ")\n",
    "\n",
    "# Now we are going to plot histograms of the image intensity for the contours\n",
    "# This tells us about the \"interesting\" parts of the image\n",
    "# Usually this is a good way to choose windowing levels\n",
    "\n",
    "# What colours should you use?\n",
    "# Here, whatever you like! I prefer muted colours\n",
    "for s, color in zip(contours, sns.color_palette(\"gist_earth\", n_colors=8)):\n",
    "    \n",
    "    # We don't want to plot too many structures, so skip all the left-sided ones\n",
    "    if \"_L\" not in s:\n",
    "        continue\n",
    "    \n",
    "    # Extract out the image where the contour is defined\n",
    "    s_vals = sitk.GetArrayViewFromImage(img)[np.where(sitk.GetArrayViewFromImage(contours[s]))]\n",
    "    \n",
    "    # Same as before - by using the same bins the plots will use a bit nicer\n",
    "    ax.hist(\n",
    "        s_vals,\n",
    "        bins=np.linspace(0,450,50),\n",
    "        histtype=\"stepfilled\",\n",
    "        fc=color,\n",
    "        ec=color,\n",
    "        alpha=0.5,\n",
    "        lw=1.5,\n",
    "        label=s\n",
    "    )\n",
    "\n",
    "# A logarithmic axis could work\n",
    "# Here I chose a \"symlog\" (symmetric log)\n",
    "# This is good when the function being plotted gets close to zero\n",
    "ax.set_yscale(\"symlog\", linthresh=100)\n",
    "\n",
    "# Not much point going beyond the bins\n",
    "ax.set_xlim(0,450)\n",
    "\n",
    "# !\n",
    "ax.set_xlabel(\"Image Value\")\n",
    "ax.set_ylabel(\"Number of Voxels\")\n",
    "\n",
    "ax.grid()\n",
    "ax.set_axisbelow(True)\n",
    "\n",
    "ax.legend()\n",
    "\n",
    "fig.tight_layout()\n",
    "\n",
    "fig.show()"
   ],
   "outputs": [],
   "metadata": {}
  },
  {
   "cell_type": "code",
   "execution_count": null,
   "source": [
    "\"\"\"\n",
    "Another good way to represent distributions is the a kernel density estimate\n",
    "\"\"\"\n",
    "\n",
    "# We can use much finer spacing\n",
    "x = np.linspace(0,450,500)\n",
    "\n",
    "fig, ax = plt.subplots(1,1,figsize=(6,5))\n",
    "\n",
    "kde_fit = gaussian_kde(img_values[::1000])\n",
    "\n",
    "ax.plot(\n",
    "    x,\n",
    "    kde_fit(x),\n",
    "    c=\"#34495E\",\n",
    "    lw=2,\n",
    "    label=\"Entire Image\",\n",
    ")\n",
    "\n",
    "\n",
    "for s, color in zip(contours, sns.color_palette(\"gist_earth\", n_colors=8)):\n",
    "    \n",
    "    \n",
    "    if \"_L\" not in s:\n",
    "        continue\n",
    "    \n",
    "    \n",
    "    s_vals = sitk.GetArrayViewFromImage(img)[np.where(sitk.GetArrayViewFromImage(contours[s]))]\n",
    "    \n",
    "    \n",
    "    kde_fit = gaussian_kde(s_vals[::50])\n",
    "\n",
    "    ax.plot(\n",
    "        x,\n",
    "        kde_fit(x),\n",
    "        c=color,\n",
    "        lw=2,\n",
    "        label=s,\n",
    "    )\n",
    "\n",
    "\n",
    "ax.set_xlim(0,450)\n",
    "ax.set_ylim(0,0.025)\n",
    "\n",
    "ax.set_xlabel(\"Image Value\")\n",
    "ax.set_ylabel(\"Relative Frequency\")\n",
    "\n",
    "ax.grid()\n",
    "ax.set_axisbelow(True)\n",
    "\n",
    "ax.legend()\n",
    "\n",
    "fig.tight_layout()\n",
    "\n",
    "fig.show()"
   ],
   "outputs": [],
   "metadata": {}
  },
  {
   "cell_type": "markdown",
   "source": [
    "### Platipy has some really cool image visualisation tools\n",
    "\n",
    "There are functions for *most* things you'd like to visualise\n",
    "\n",
    "But if you can't find it... code it up and make a pull request!"
   ],
   "metadata": {}
  },
  {
   "cell_type": "code",
   "execution_count": null,
   "source": [
    "\"\"\"\n",
    "Let's visualise with some knowledge of the intensities\n",
    "\"\"\"\n",
    "\n",
    "vis = ImageVisualiser(img, window=(0,400), figure_size_in=6)\n",
    "fig = vis.show()"
   ],
   "outputs": [],
   "metadata": {}
  },
  {
   "cell_type": "code",
   "execution_count": null,
   "source": [
    "fig.savefig(\"mri.jpeg\", dpi=300)"
   ],
   "outputs": [],
   "metadata": {}
  },
  {
   "cell_type": "code",
   "execution_count": null,
   "source": [
    "\"\"\"\n",
    "We can also display contours on top of images\n",
    "\"\"\"\n",
    "\n",
    "vis = ImageVisualiser(img, window=(0,400), cut=(40,250,250), figure_size_in=6)\n",
    "\n",
    "vis.add_contour(contours)\n",
    "\n",
    "fig = vis.show()"
   ],
   "outputs": [],
   "metadata": {}
  },
  {
   "cell_type": "code",
   "execution_count": null,
   "source": [
    "\"\"\"\n",
    "We can also overlay scalar maps\n",
    "Here is an example of an overlay\n",
    "that only maps part of the image\n",
    "\"\"\"\n",
    "\n",
    "def super_complex_ai_algorithm(img, contour):\n",
    "    \n",
    "    img_masked = crop_to_label_extent(img, contour)\n",
    "    \n",
    "    ai_result = sitk.Cast(img_masked, sitk.sitkFloat32)**0.5\n",
    "    \n",
    "    values = sitk.GetArrayViewFromImage(ai_result)\n",
    "    \n",
    "    ai_mean = values.mean()\n",
    "    ai_sigma = values.std()\n",
    "    \n",
    "    ai_output = sitk.Abs(ai_result - ai_mean)/ai_sigma\n",
    "    \n",
    "    return sitk.Resample(ai_output, img)\n",
    "                  \n",
    "\n",
    "ai_output = super_complex_ai_algorithm(img, contours[\"PAROTID_L\"])"
   ],
   "outputs": [],
   "metadata": {}
  },
  {
   "cell_type": "code",
   "execution_count": null,
   "source": [
    "ai_output"
   ],
   "outputs": [],
   "metadata": {}
  },
  {
   "cell_type": "code",
   "execution_count": null,
   "source": [
    "\"\"\"\n",
    "A preliminary visualisation\n",
    "\"\"\"\n",
    "\n",
    "vis = ImageVisualiser(img, window=(0,400), cut=get_com(contours[\"PAROTID_L\"]), figure_size_in=6)\n",
    "\n",
    "vis.add_scalar_overlay(ai_output)\n",
    "\n",
    "fig = vis.show()"
   ],
   "outputs": [],
   "metadata": {}
  },
  {
   "cell_type": "code",
   "execution_count": null,
   "source": [
    "\"\"\"\n",
    "Some minor modifications\n",
    "\"\"\"\n",
    "\n",
    "vis = ImageVisualiser(img, window=(0,400), cut=get_com(contours[\"PAROTID_L\"]), figure_size_in=6)\n",
    "\n",
    "vis.add_scalar_overlay(\n",
    "    scalar_image = ai_output,\n",
    "    name=\"AI results [units]\",\n",
    "    colormap=plt.cm.magma,\n",
    "    alpha=0.75,\n",
    "    min_value=0,\n",
    "    max_value=2,\n",
    "    discrete_levels=8,\n",
    "    mid_ticks=False,\n",
    "    show_colorbar=True,\n",
    "    norm=None,\n",
    ")\n",
    "\n",
    "vis.add_bounding_box(contours[\"PAROTID_L\"], color=\"#29bd34\", linewidth=3, name=\"VOI\")\n",
    "\n",
    "vis.set_limits_from_label(contours[\"PAROTID_L\"], expansion=50)\n",
    "\n",
    "fig = vis.show()"
   ],
   "outputs": [],
   "metadata": {}
  },
  {
   "cell_type": "markdown",
   "source": [
    "### Projection images\n",
    "\n",
    "These can be really useful to see the extents of contours.\n",
    "\n",
    "And to quickly spot errors!\n",
    "\n",
    "There are a few different types I'll go through."
   ],
   "metadata": {}
  },
  {
   "cell_type": "code",
   "execution_count": null,
   "source": [
    "\"\"\"\n",
    "There are a few ways to do this - the easiest is with ImageVisualiser\n",
    "\n",
    "First let's have a look at the mean intensity projection\n",
    "\"\"\"\n",
    "\n",
    "# The intensity is normalised to [0,1]\n",
    "vis = ImageVisualiser(img, window=(0,0.8), projection=\"mean\", figure_size_in=6)\n",
    "\n",
    "fig = vis.show()"
   ],
   "outputs": [],
   "metadata": {}
  },
  {
   "cell_type": "code",
   "execution_count": null,
   "source": [
    "\"\"\"\n",
    "We can also add contours\n",
    "\"\"\"\n",
    "\n",
    "vis = ImageVisualiser(img, window=(0,0.8), projection=\"mean\")\n",
    "\n",
    "vis.add_contour(contours)\n",
    "\n",
    "fig = vis.show()"
   ],
   "outputs": [],
   "metadata": {}
  },
  {
   "cell_type": "code",
   "execution_count": null,
   "source": [
    "fig.savefig(\"./figures/synthetic_mri_drr.jpeg\", dpi=300)"
   ],
   "outputs": [],
   "metadata": {}
  },
  {
   "cell_type": "code",
   "execution_count": null,
   "source": [],
   "outputs": [],
   "metadata": {}
  }
 ],
 "metadata": {
  "kernelspec": {
   "name": "python3",
   "display_name": "Python 3.8.10 64-bit"
  },
  "language_info": {
   "codemirror_mode": {
    "name": "ipython",
    "version": 3
   },
   "file_extension": ".py",
   "mimetype": "text/x-python",
   "name": "python",
   "nbconvert_exporter": "python",
   "pygments_lexer": "ipython3",
   "version": "3.8.10"
  },
  "interpreter": {
   "hash": "e7370f93d1d0cde622a1f8e1c04877d8463912d04d973331ad4851f04de6915a"
  }
 },
 "nbformat": 4,
 "nbformat_minor": 5
}